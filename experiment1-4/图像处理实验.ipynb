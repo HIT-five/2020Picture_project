{
 "cells": [
  {
   "cell_type": "markdown",
   "metadata": {},
   "source": [
    "## 实验一、图像处理入门"
   ]
  },
  {
   "cell_type": "markdown",
   "metadata": {},
   "source": [
    "#### 在开发环境下，显示Lena图像"
   ]
  },
  {
   "cell_type": "code",
   "execution_count": 1,
   "metadata": {},
   "outputs": [],
   "source": [
    "import cv2\n",
    "import numpy as np\n",
    "from matplotlib import pyplot as plt\n",
    "import copy\n",
    "import math"
   ]
  },
  {
   "cell_type": "code",
   "execution_count": null,
   "metadata": {},
   "outputs": [],
   "source": [
    "img = cv2.imread('./lena.jpg')\n",
    "cv2.imshow(\"Lena_original\",img)\n",
    "cv2.waitKey(0)\n",
    "cv2.destroyAllWindows()"
   ]
  },
  {
   "cell_type": "markdown",
   "metadata": {},
   "source": [
    "#### 修改目录及文件名，显示磁盘中的指定图像"
   ]
  },
  {
   "cell_type": "code",
   "execution_count": null,
   "metadata": {},
   "outputs": [],
   "source": [
    "img1 = cv2.imread('D:/Mechine_learning_data/lena.jpg')\n",
    "cv2.imshow('Lena_original_01',img1)\n",
    "cv2.waitKey(0)\n",
    "cv2.destroyAllWindows()"
   ]
  },
  {
   "cell_type": "markdown",
   "metadata": {},
   "source": [
    "#### 将原有图像宽、高各缩小1/2，显示原始图像及缩小后的图像"
   ]
  },
  {
   "cell_type": "code",
   "execution_count": null,
   "metadata": {},
   "outputs": [],
   "source": [
    "img_half = cv2.resize(img,dsize=None,fx=0.5,fy=0.5,interpolation = cv2.INTER_NEAREST)\n",
    "cv2.imshow(\"Lena_original\",img)\n",
    "cv2.imshow('Lena_half',img_half)\n",
    "cv2.waitKey(0)\n",
    "cv2.destroyAllWindows()"
   ]
  },
  {
   "cell_type": "markdown",
   "metadata": {},
   "source": [
    "#### 将原有图像转换为灰度图像，任意指定3个位置，显示对应像素的灰度值（在字符窗口中）"
   ]
  },
  {
   "cell_type": "code",
   "execution_count": null,
   "metadata": {},
   "outputs": [],
   "source": [
    "img_gray = cv2.cvtColor(img,cv2.COLOR_RGB2GRAY)\n",
    "#gray_array = np.array(img_gray)\n",
    "#print(gray_array.shape)"
   ]
  },
  {
   "cell_type": "code",
   "execution_count": null,
   "metadata": {},
   "outputs": [],
   "source": [
    "def test_pixel_value(gray_img):\n",
    "    gray_array = np.array(gray_img)\n",
    "    m = gray_array.shape[0]\n",
    "    n = gray_array.shape[1]\n",
    "    i = int(input('请输入要查看位置的横坐标：'))\n",
    "    j = int(input('请输入要查看位置的纵坐标：'))\n",
    "    if (i<=m and j<=n):\n",
    "        pixel_value = gray_array[i][j]\n",
    "        print('该位置的像素值为：',pixel_value)\n",
    "    else:\n",
    "        print('坐标不在图片范围内！')"
   ]
  },
  {
   "cell_type": "code",
   "execution_count": null,
   "metadata": {},
   "outputs": [],
   "source": [
    "a = 0\n",
    "while a<3:\n",
    "    test_pixel_value(img_gray)\n",
    "    a+=1"
   ]
  },
  {
   "cell_type": "markdown",
   "metadata": {},
   "source": [
    "## 实验二、颜色空间变换"
   ]
  },
  {
   "cell_type": "markdown",
   "metadata": {},
   "source": [
    "#### 读取season图片"
   ]
  },
  {
   "cell_type": "code",
   "execution_count": null,
   "metadata": {},
   "outputs": [],
   "source": [
    "img = cv2.imread('./season.jpg')"
   ]
  },
  {
   "cell_type": "markdown",
   "metadata": {},
   "source": [
    "#### 显示对应的RGB通道"
   ]
  },
  {
   "cell_type": "code",
   "execution_count": null,
   "metadata": {},
   "outputs": [],
   "source": [
    "cv2.imshow('org',img)\n",
    "cv2.imshow('Blue',img[:,:,0])\n",
    "cv2.imshow('Green',img[:,:,1])\n",
    "cv2.imshow('Red',img[:,:,2])\n",
    "cv2.waitKey(0)"
   ]
  },
  {
   "cell_type": "markdown",
   "metadata": {},
   "source": [
    "#### 将原有图像转换为HSV空间表达，并显示对应分量"
   ]
  },
  {
   "cell_type": "code",
   "execution_count": null,
   "metadata": {},
   "outputs": [],
   "source": [
    "hsv = cv2.cvtColor(img,cv2.COLOR_BGR2HSV)\n",
    "cv2.imshow('ss',hsv)\n",
    "cv2.imshow('Hue',hsv[:,:,0])# 色调H是描述纯色的属性0-360\n",
    "cv2.imshow('Saturation',hsv[:,:,1])# 饱和度表示的是一种纯色被白光稀释的程度的度量0-1？？\n",
    "cv2.imshow('Value',hsv[:,:,2])# 亮度体现了无色的光强度的概念，是一个主观的描述，值被归一化到0-255\n",
    "cv2.waitKey(0)\n",
    "cv2.destroyAllWindows()\n",
    "# print(hsv[:,:,0])\n",
    "# print(hsv[:,:,1])\n",
    "# print(hsv[:,:,2])\n"
   ]
  },
  {
   "cell_type": "markdown",
   "metadata": {},
   "source": [
    "#### 分别对RGB和HSV分量显示图像进行分析"
   ]
  },
  {
   "cell_type": "markdown",
   "metadata": {},
   "source": [
    "    RGB三种颜色通道，每一个通道中像素的值均在0-255之间，他们组合起来形成三个通道，形成了彩色图像，每一个通道下，每个像素点的值都在0-255之间，该值越大表示该种色彩空间在原图像中所占的比例越大；\n",
    "    HSV中H表示色调，是描述纯色的属性\n",
    "    S表示饱和度，表示一种纯色被白光稀释的程度的度量\n",
    "    V表示亮度，体现着光强度的概念\n",
    "    一般在基于颜色识别的问题中，多用HSV空间表达图像，因为HSV表达鲁棒性更好\n",
    "    \n"
   ]
  },
  {
   "cell_type": "code",
   "execution_count": null,
   "metadata": {},
   "outputs": [],
   "source": [
    "b,g,r = cv2.split(img)\n",
    "change_channal_img = cv2.merge([r,g,b]) \n",
    "\n",
    "plt.subplot(241),plt.imshow(change_channal_img),plt.title('Original')\n",
    "plt.xticks([]), plt.yticks([])\n",
    "plt.subplot(242),plt.imshow(img[:,:,0]),plt.title('Red')\n",
    "plt.xticks([]), plt.yticks([])\n",
    "plt.subplot(243),plt.imshow(img[:,:,1]),plt.title('Green')\n",
    "plt.xticks([]), plt.yticks([])\n",
    "plt.subplot(244),plt.imshow(img[:,:,2]),plt.title('Blue')\n",
    "plt.xticks([]), plt.yticks([])\n",
    "\n",
    "b1,g1,r1 = cv2.split(hsv)\n",
    "change_channal_hsv = cv2.merge([r1,g1,b1])\n",
    "plt.subplot(245),plt.imshow(change_channal_hsv),plt.title('HSV')\n",
    "plt.xticks([]), plt.yticks([])\n",
    "plt.subplot(246),plt.imshow(hsv[:,:,0]),plt.title('Hue')\n",
    "plt.xticks([]), plt.yticks([])\n",
    "plt.subplot(247),plt.imshow(hsv[:,:,1]),plt.title('Saturation')\n",
    "plt.xticks([]), plt.yticks([])\n",
    "plt.subplot(248),plt.imshow(hsv[:,:,2]),plt.title('Value')\n",
    "plt.xticks([]), plt.yticks([])\n",
    "\n",
    "\n",
    "plt.show()"
   ]
  },
  {
   "cell_type": "markdown",
   "metadata": {},
   "source": [
    "## 实验三、图像去噪与边缘检测"
   ]
  },
  {
   "cell_type": "markdown",
   "metadata": {},
   "source": [
    "#### 在开发环境下，对给定的图像使用平均滤波、高斯滤波、中值滤波和双边滤波进行平滑去噪；"
   ]
  },
  {
   "cell_type": "code",
   "execution_count": null,
   "metadata": {},
   "outputs": [],
   "source": [
    "import time\n",
    "from timeit import Timer"
   ]
  },
  {
   "cell_type": "code",
   "execution_count": null,
   "metadata": {},
   "outputs": [],
   "source": [
    "img = cv2.imread('./pic2.png')\n",
    "\n",
    "starttime = time.clock()\n",
    "blur = cv2.blur(img,(5,5))\n",
    "finishtime=time.clock()\n",
    "fulltime = finishtime-starttime\n",
    "\n",
    "starttime1 = time.clock()\n",
    "gauss = cv2.GaussianBlur(img,(5,5),0)\n",
    "finishtime1 = time.clock()\n",
    "fulltime1 = finishtime1-starttime1\n",
    "\n",
    "starttime2 = time.clock()\n",
    "median = cv2.medianBlur(img,5)\n",
    "finishtime2 = time.clock()\n",
    "fulltime2 = finishtime2-starttime2\n",
    "\n",
    "starttime3 = time.clock()\n",
    "bilateral = cv2.bilateralFilter(img,5,150,150)\n",
    "finishtime3 = time.clock()\n",
    "fulltime3 = finishtime3-starttime3\n",
    "\n",
    "cv2.imshow('src_gauss',gauss)\n",
    "cv2.imshow('org',img)\n",
    "cv2.imshow('src_blur',blur)\n",
    "cv2.imshow('src_median',median)\n",
    "cv2.imshow('src_bilateral',bilateral)\n",
    "print('平均滤波用时',fulltime)\n",
    "print('高斯滤波用时',fulltime1)\n",
    "print('中值滤波用时',fulltime2)\n",
    "print('双边滤波用时',fulltime3)\n",
    "cv2.waitKey(0)\n",
    "cv2.destroyAllWindows()"
   ]
  },
  {
   "cell_type": "markdown",
   "metadata": {},
   "source": [
    "#### 观察平滑去噪的结果，并进行比较分析（已包含时间分析）"
   ]
  },
  {
   "cell_type": "markdown",
   "metadata": {},
   "source": [
    "1.中值滤波对去除pic2.png这种椒盐噪声效果明显 \n",
    "2.高斯滤波对高斯噪声的去除作用明显\n",
    "3.对于处理时间长短，可以看出高斯滤波时间最短，中值滤波处理时间最长。"
   ]
  },
  {
   "cell_type": "markdown",
   "metadata": {},
   "source": [
    "#### 在开发环境下，对给定图像使用Sobel算子，Laplace算子和Canny算子进行边缘检测"
   ]
  },
  {
   "cell_type": "code",
   "execution_count": null,
   "metadata": {},
   "outputs": [],
   "source": [
    "img = cv2.imread('./right03.jpg')\n",
    "\n",
    "starttime = time.clock()\n",
    "sobel = cv2.Sobel(img,cv2.CV_16S,1,0,ksize=3)\n",
    "sobel_show = cv2.convertScaleAbs(sobel)\n",
    "endtime = time.clock()\n",
    "fulltime = endtime-starttime\n",
    "\n",
    "starttime1 = time.clock()\n",
    "laplacian = cv2.Laplacian(img,cv2.CV_16S)\n",
    "lap_show = cv2.convertScaleAbs(laplacian)\n",
    "endtime1 = time.clock()\n",
    "fulltime1 = endtime1-starttime1\n",
    "\n",
    "starttime2 = time.clock()\n",
    "canny1 = cv2.Canny(img,50,120)\n",
    "endtime2 = time.clock()\n",
    "fulltime2 = endtime2-starttime2\n",
    "\n",
    "starttime3 = time.clock()\n",
    "canny2 = cv2.Canny(img,25,200)\n",
    "endtime3 = time.clock()\n",
    "fulltime3 = endtime3-starttime3\n",
    "\n",
    "cv2.imshow('Laplician',lap_show)\n",
    "cv2.imshow('Sobel',sobel_show)\n",
    "cv2.imshow('Canny_01',canny1)\n",
    "cv2.imshow('Canny_02',canny2)\n",
    "print('Sobel算子边缘检测用时：',fulltime)\n",
    "print('Laplacian算子边缘检测用时：',fulltime1)\n",
    "print('Canny算子边缘检测用时：',fulltime2)\n",
    "print('Canny算子边缘检测用时：',fulltime3)\n",
    "cv2.waitKey(0)\n",
    "cv2.destroyAllWindows()"
   ]
  },
  {
   "cell_type": "markdown",
   "metadata": {},
   "source": [
    "#### 观察不同方法结果（包括Canny算子使用不同参数的结果），并进行比较分析"
   ]
  },
  {
   "cell_type": "markdown",
   "metadata": {},
   "source": [
    "1.Sobel算子边缘检测可以明显提取到图像的边缘信息，而且处理速度比Canny算子边缘检测速度快\n",
    "2.Canny算子边缘检测效果最好，边缘信息保留最完善，但是处理速度比较慢\n",
    "3.Canny算子阈值设置范围越大，对噪声的过滤能力越强，刻画的轮廓越准确，但是处理时间也越长"
   ]
  },
  {
   "cell_type": "markdown",
   "metadata": {},
   "source": [
    "## 实验四、直方图与图像分割"
   ]
  },
  {
   "cell_type": "markdown",
   "metadata": {},
   "source": [
    "#### 在开发环境下，显示米粒图像的灰度直方图"
   ]
  },
  {
   "cell_type": "code",
   "execution_count": null,
   "metadata": {},
   "outputs": [],
   "source": [
    "img = cv2.imread('./rice.jpg')\n",
    "gray = cv2.cvtColor(img,cv2.COLOR_BGR2GRAY)\n",
    "element = cv2.getStructuringElement(cv2.MORPH_CROSS,(3,3))\n",
    "plt.hist(gray.ravel(),256,[0,256])\n",
    "plt.show()"
   ]
  },
  {
   "cell_type": "markdown",
   "metadata": {},
   "source": [
    "#### 使用大津或其他方法进行阈值分割，得到分割后的二值化图像"
   ]
  },
  {
   "cell_type": "code",
   "execution_count": null,
   "metadata": {},
   "outputs": [],
   "source": [
    "thr ,bw = cv2.threshold(gray,0,0xff,cv2.THRESH_OTSU)\n",
    "bw = cv2.morphologyEx(bw,cv2.MORPH_OPEN,element)# 形态学操作\n",
    "print('Threshold is :',thr)\n",
    "cv2.imshow('org',img)\n",
    "cv2.imshow('binary_src',bw)\n",
    "cv2.waitKey(0)\n",
    "cv2.destroyAllWindows()"
   ]
  },
  {
   "cell_type": "markdown",
   "metadata": {},
   "source": [
    "#### 对结果应用findContours函数，得到所有米粒对应的轮廓"
   ]
  },
  {
   "cell_type": "code",
   "execution_count": null,
   "metadata": {},
   "outputs": [],
   "source": [
    "seg = copy.deepcopy(bw)\n",
    "cnts,hier = cv2.findContours(seg,cv2.RETR_EXTERNAL,cv2.CHAIN_APPROX_SIMPLE)"
   ]
  },
  {
   "cell_type": "markdown",
   "metadata": {},
   "source": [
    "#### 画出每一米粒对应的最小包围矩形，进一步计算方差并进行统计"
   ]
  },
  {
   "cell_type": "code",
   "execution_count": null,
   "metadata": {},
   "outputs": [],
   "source": [
    "count = 0\n",
    "sum1=0\n",
    "sum2=0\n",
    "r_list=[]\n",
    "for i in range(len(cnts),0,-1):#到0为止，不包括0\n",
    "    c = cnts[i-1]\n",
    "    area = cv2.contourArea(c)\n",
    "    if area<10:\n",
    "        continue\n",
    "    count+=1\n",
    "    #print('blob',i,':',area)\n",
    "    \n",
    "    x,y,w,h = cv2.boundingRect(c)\n",
    "    cv2.rectangle(img,(x,y),(x+w,y+h),(0,0,255),1)\n",
    "    cv2.putText(img,str(count),(x,y),cv2.FONT_HERSHEY_PLAIN,0.5,(0,255,0))\n",
    "    r = max(w,h)\n",
    "    r_list.append(r)\n",
    "    sum1 = sum1+r\n",
    "    sum2 = sum2+r**2\n",
    "mean = sum1/count\n",
    "var = sum2/count-mean**2\n",
    "# print(np.array(r_list).shape)\n",
    "print('米粒数量：',count)\n",
    "print('米粒直径的方差为',var)\n",
    "print('米粒直径的均值为',mean)\n",
    "\n",
    "max_r = mean+2.5*math.sqrt(var)\n",
    "min_r = mean-2.5*math.sqrt(var)\n",
    "count1 = 0\n",
    "for i in range(len(r_list)):\n",
    "    if (min_r<r_list[i]<max_r):\n",
    "        count1+=1\n",
    "print('落在2.5sigma范围内的米粒数量：',count1)\n",
    "print('落在2.5sigam范围内米粒的数量与总米粒数量的比:',count1/count)\n",
    "        \n",
    "# cv2.imshow('org',img)\n",
    "# cv2.waitKey(0)\n",
    "# cv2.destroyAllWindows()"
   ]
  },
  {
   "cell_type": "markdown",
   "metadata": {},
   "source": [
    "#### 对分割及统计结果进行分析"
   ]
  },
  {
   "cell_type": "markdown",
   "metadata": {},
   "source": [
    "落在2.5sigma范围内的米粒数量占总数量的96%说明分割结果符合假设检验中的2sigma原则，这种阈值分割算法能够很好被应用"
   ]
  },
  {
   "cell_type": "markdown",
   "metadata": {},
   "source": [
    "## 实验五、目标检测与跟踪"
   ]
  },
  {
   "cell_type": "markdown",
   "metadata": {},
   "source": [
    "#### 系统输入：给定视频\n",
    "#### 系统输出：检测的目标框及目标运动轨迹"
   ]
  },
  {
   "cell_type": "markdown",
   "metadata": {},
   "source": [
    "#### 运动目标检测：利用OpenCV提供的背景提取算法"
   ]
  },
  {
   "cell_type": "code",
   "execution_count": 2,
   "metadata": {},
   "outputs": [
    {
     "name": "stdout",
     "output_type": "stream",
     "text": [
      "共检测到： 1 个目标 \n",
      "\n",
      "共检测到： 6 个目标 \n",
      "\n",
      "共检测到： 7 个目标 \n",
      "\n",
      "共检测到： 7 个目标 \n",
      "\n",
      "共检测到： 7 个目标 \n",
      "\n",
      "共检测到： 8 个目标 \n",
      "\n",
      "共检测到： 0 个目标 \n",
      "\n",
      "共检测到： 0 个目标 \n",
      "\n",
      "共检测到： 0 个目标 \n",
      "\n",
      "共检测到： 1 个目标 \n",
      "\n",
      "共检测到： 0 个目标 \n",
      "\n",
      "共检测到： 0 个目标 \n",
      "\n",
      "共检测到： 0 个目标 \n",
      "\n",
      "共检测到： 0 个目标 \n",
      "\n",
      "共检测到： 9 个目标 \n",
      "\n",
      "共检测到： 10 个目标 \n",
      "\n",
      "共检测到： 12 个目标 \n",
      "\n",
      "共检测到： 5 个目标 \n",
      "\n",
      "共检测到： 3 个目标 \n",
      "\n",
      "共检测到： 1 个目标 \n",
      "\n",
      "共检测到： 1 个目标 \n",
      "\n",
      "共检测到： 1 个目标 \n",
      "\n",
      "共检测到： 1 个目标 \n",
      "\n",
      "共检测到： 1 个目标 \n",
      "\n",
      "共检测到： 2 个目标 \n",
      "\n",
      "共检测到： 2 个目标 \n",
      "\n",
      "共检测到： 2 个目标 \n",
      "\n",
      "共检测到： 4 个目标 \n",
      "\n",
      "共检测到： 5 个目标 \n",
      "\n",
      "共检测到： 6 个目标 \n",
      "\n",
      "共检测到： 5 个目标 \n",
      "\n",
      "共检测到： 4 个目标 \n",
      "\n",
      "共检测到： 1 个目标 \n",
      "\n",
      "共检测到： 7 个目标 \n",
      "\n",
      "共检测到： 12 个目标 \n",
      "\n",
      "共检测到： 12 个目标 \n",
      "\n",
      "共检测到： 11 个目标 \n",
      "\n",
      "共检测到： 11 个目标 \n",
      "\n",
      "共检测到： 8 个目标 \n",
      "\n",
      "共检测到： 9 个目标 \n",
      "\n",
      "共检测到： 8 个目标 \n",
      "\n",
      "共检测到： 9 个目标 \n",
      "\n",
      "共检测到： 5 个目标 \n",
      "\n",
      "共检测到： 6 个目标 \n",
      "\n",
      "共检测到： 5 个目标 \n",
      "\n",
      "共检测到： 4 个目标 \n",
      "\n",
      "共检测到： 4 个目标 \n",
      "\n",
      "共检测到： 3 个目标 \n",
      "\n",
      "共检测到： 2 个目标 \n",
      "\n",
      "共检测到： 7 个目标 \n",
      "\n",
      "共检测到： 7 个目标 \n",
      "\n",
      "共检测到： 9 个目标 \n",
      "\n",
      "共检测到： 10 个目标 \n",
      "\n",
      "共检测到： 9 个目标 \n",
      "\n",
      "共检测到： 7 个目标 \n",
      "\n",
      "共检测到： 6 个目标 \n",
      "\n",
      "共检测到： 5 个目标 \n",
      "\n",
      "共检测到： 4 个目标 \n",
      "\n",
      "共检测到： 4 个目标 \n",
      "\n",
      "共检测到： 4 个目标 \n",
      "\n",
      "共检测到： 5 个目标 \n",
      "\n",
      "共检测到： 5 个目标 \n",
      "\n",
      "共检测到： 5 个目标 \n",
      "\n",
      "共检测到： 6 个目标 \n",
      "\n",
      "共检测到： 7 个目标 \n",
      "\n",
      "共检测到： 10 个目标 \n",
      "\n",
      "共检测到： 9 个目标 \n",
      "\n",
      "共检测到： 9 个目标 \n",
      "\n",
      "共检测到： 8 个目标 \n",
      "\n",
      "共检测到： 8 个目标 \n",
      "\n",
      "共检测到： 9 个目标 \n",
      "\n",
      "共检测到： 9 个目标 \n",
      "\n",
      "共检测到： 9 个目标 \n",
      "\n",
      "共检测到： 7 个目标 \n",
      "\n",
      "共检测到： 8 个目标 \n",
      "\n",
      "共检测到： 7 个目标 \n",
      "\n",
      "共检测到： 5 个目标 \n",
      "\n",
      "共检测到： 7 个目标 \n",
      "\n",
      "共检测到： 5 个目标 \n",
      "\n",
      "共检测到： 11 个目标 \n",
      "\n"
     ]
    }
   ],
   "source": [
    "cap = cv2.VideoCapture('./viplane.avi')\n",
    "fgbg = cv2.createBackgroundSubtractorMOG2()\n",
    "thresh = 200\n",
    "\n",
    "while True:\n",
    "    ret,frame = cap.read()\n",
    "    if not ret:\n",
    "        break\n",
    "    fgmask = fgbg.apply(frame)\n",
    "    _,fgmask = cv2.threshold(fgmask,30,0xff,cv2.THRESH_BINARY)\n",
    "    bgImage = fgbg.getBackgroundImage()\n",
    "    \n",
    "    cnts,_ = cv2.findContours(fgmask.copy(),cv2.RETR_EXTERNAL,cv2.CHAIN_APPROX_SIMPLE)\n",
    "    count = 0\n",
    "    for c in cnts:\n",
    "        area = cv2.contourArea(c)\n",
    "        if (area<thresh):\n",
    "            continue\n",
    "        count += 1\n",
    "        \n",
    "        x,y,w,h = cv2.boundingRect(c)\n",
    "        cv2.rectangle(frame,(x,y),(x+w,y+h),(0,0xff,0),2)\n",
    "    print('共检测到：',count,'个目标','\\n')\n",
    "    cv2.imshow('frame',frame)\n",
    "    cv2.imshow('Background',bgImage)\n",
    "    \n",
    "    key = cv2.waitKey(30)\n",
    "    if key==27:\n",
    "        break\n",
    "        "
   ]
  },
  {
   "cell_type": "code",
   "execution_count": null,
   "metadata": {},
   "outputs": [],
   "source": []
  }
 ],
 "metadata": {
  "kernelspec": {
   "display_name": "Python 3",
   "language": "python",
   "name": "python3"
  },
  "language_info": {
   "codemirror_mode": {
    "name": "ipython",
    "version": 3
   },
   "file_extension": ".py",
   "mimetype": "text/x-python",
   "name": "python",
   "nbconvert_exporter": "python",
   "pygments_lexer": "ipython3",
   "version": "3.6.10"
  }
 },
 "nbformat": 4,
 "nbformat_minor": 4
}
